{
 "cells": [
  {
   "cell_type": "markdown",
   "metadata": {},
   "source": [
    "### Problem 1:\n",
    "\n",
    "1. Write a program to calculate area of shapes. Your program should be capable of calculating the area of a square, rectangle, triangle and a circle. The user should be presented with options to select the shape. Based on which shape is chosed by the user, the program should ask for the appropriate input and print the resulting area on the screen.\n",
    "\n",
    "When the program is run, the screen should display something like this:\n",
    "\n",
    "**Which shape would you like to calculate the area for? Please enter the option number-**<br>\n",
    "**1. Square**<br>\n",
    "**2. Rectangle**<br>\n",
    "**3. Triangle**<br>\n",
    "**4. Circle**<br>\n",
    "**Enter Option: _**\n",
    "\n",
    "Say the user enters the option 1.\n",
    "\n",
    "**Please enter the length of a side: _**\n",
    "\n",
    "If the user enters a value of 5. The output should be:\n",
    "\n",
    "**The area of the square is 25**\n",
    "\n",
    "This program should indicate that the input is invalid if the user enters a character instead of a number as input. For instance if the user enters a value of ‘a’ instead of 5 in the previous example the program should prompt:\n",
    "\n",
    "**Invalid input, please enter a number: _**\n"
   ]
  },
  {
   "cell_type": "code",
   "execution_count": 9,
   "metadata": {},
   "outputs": [
    {
     "name": "stdout",
     "output_type": "stream",
     "text": [
      " Area of shapes\n",
      "1.Square \n",
      "2.Rectangle \n",
      "3.Triangle \n",
      "4.Circle \n",
      " \n",
      " Please choose your option 4\n",
      "Enter the radius of circle : f\n",
      "Invalid input, Please enter a number:_\n",
      "Enter the radius of circle : 2\n",
      "Area of circle is :  12.56\n"
     ]
    }
   ],
   "source": [
    "print(\" Area of shapes\")\n",
    "print('1.Square \\n2.Rectangle \\n3.Triangle \\n4.Circle \\n ')\n",
    "choice = int(input(' Please choose your option '))\n",
    "if(choice==1):\n",
    "    while True:\n",
    "        try:\n",
    "            s = float(input(\"Enter the value of the side : \"))\n",
    "            s = float(s)\n",
    "            break\n",
    "        except ValueError:\n",
    "            print(\"Invalid input, Please enter a number:_\")\n",
    "    print('Area of square is : ', s*s)\n",
    "        \n",
    "elif(choice==2):\n",
    "    while True:\n",
    "        try:\n",
    "            l = float(input(\"Enter the value of the length : \"))\n",
    "            l= float(l)\n",
    "            b= float(input(\"Enter the value of the breadth : \"))\n",
    "            b= float(b)\n",
    "            break\n",
    "        except ValueError:\n",
    "            print(\"Invalid input, Please enter a number:_\")\n",
    "    print('Area of rectangle is : ',l*b)\n",
    "\n",
    "elif(choice==3):\n",
    "    while True:\n",
    "        try:\n",
    "            b = float(input(\"Enter the value of the base : \")) \n",
    "            h= float(input(\"Enter the value of the height : \"))\n",
    "            b= float(b)\n",
    "            h= float(h)\n",
    "            \n",
    "            break\n",
    "        except ValueError:\n",
    "            print(\"Invalid input, Please enter a number:_\")\n",
    "    print('Area of triangle is : ',(0.5*b*h))\n",
    "\n",
    "elif(choice==4):\n",
    "    while True:\n",
    "        try:\n",
    "            r = float(input(\"Enter the radius of circle : \"))\n",
    "            r= float(r)\n",
    "            break\n",
    "        except ValueError:\n",
    "            print(\"Invalid input, Please enter a number:_\")\n",
    "    print('Area of circle is : ',(3.14*r*r))\n",
    "\n",
    "else:\n",
    "    print(\"Invalid Input\")"
   ]
  },
  {
   "cell_type": "markdown",
   "metadata": {},
   "source": [
    "### Problem 2:\n",
    "\n",
    "Create and encrypter in python based on the ceaser cipher. It is a substitution cipher where each character of the original text is shifted a certain number characters in the alphabet. Write a function that would require 2 arguments – the input text to be encrypted and a key. For eg: Given the input text ‘hello’ and the key 3, the resulting encryted text would be ‘khoor’. Here you can see that every character in the string hello is shifted by 3 characters. ‘h’ has shifted to ‘k’, ‘e’ has shifted to ‘h’ and so on. If a key of 5 were used, the resulting string would be ‘mjqqt’. This function should be capable of ignoring any characters which are not alphabets. Th2 character ‘z’ entered b\n",
    "y the user for a key of 3 would result in ‘c’.\n",
    "\n",
    "Usage:<br>\n",
    "**encrypt(‘hello world!’, 3)**<br>\n",
    "**‘khoor zruog!’**\n",
    "\n",
    "Similarly create decrypter which can decode the encryted text when provided the input text and key\n",
    "\n",
    "Usage:<br>\n",
    "**decrypt(‘khoor zruog!’, 3)**<br>\n",
    "**‘hello world!’**\n",
    "\n",
    "For the sake of simplicity you can assume that input solely consists of lowercase alphabets, spaces and punctuation symbols. Numbers in the input text would also be ignored similar to symbols."
   ]
  },
  {
   "cell_type": "code",
   "execution_count": 20,
   "metadata": {},
   "outputs": [],
   "source": [
    "def encrypt(string,shift):\n",
    "    strs = 'abcdefghijklmnopqrstuvwxyz' \n",
    "    data = []\n",
    "    for i in string:                     \n",
    "        if i.strip() and i in strs:               \n",
    "            data.append(strs[(strs.index(i) + shift) % 26])    \n",
    "        else:\n",
    "            data.append(i)       \n",
    "    output = ''.join(data)\n",
    "    return output\n",
    "\n",
    "def decrypt(string,shift):\n",
    "    strs = 'abcdefghijklmnopqrstuvwxyz' \n",
    "    data = []\n",
    "    for i in string:                     \n",
    "        if i.strip() and i in strs:               \n",
    "            data.append(strs[(strs.index(i) - shift) % 26])    \n",
    "        else:\n",
    "            data.append(i)       \n",
    "    output = ''.join(data)\n",
    "    return output"
   ]
  },
  {
   "cell_type": "code",
   "execution_count": 21,
   "metadata": {},
   "outputs": [
    {
     "data": {
      "text/plain": [
       "'khoor zruog!'"
      ]
     },
     "execution_count": 21,
     "metadata": {},
     "output_type": "execute_result"
    }
   ],
   "source": [
    "encrypt('hello world!',3)"
   ]
  },
  {
   "cell_type": "code",
   "execution_count": 22,
   "metadata": {},
   "outputs": [
    {
     "data": {
      "text/plain": [
       "'hello world!'"
      ]
     },
     "execution_count": 22,
     "metadata": {},
     "output_type": "execute_result"
    }
   ],
   "source": [
    "decrypt('khoor zruog!', 3)"
   ]
  },
  {
   "cell_type": "code",
   "execution_count": null,
   "metadata": {},
   "outputs": [],
   "source": []
  }
 ],
 "metadata": {
  "kernelspec": {
   "display_name": "Python 3",
   "language": "python",
   "name": "python3"
  },
  "language_info": {
   "codemirror_mode": {
    "name": "ipython",
    "version": 3
   },
   "file_extension": ".py",
   "mimetype": "text/x-python",
   "name": "python",
   "nbconvert_exporter": "python",
   "pygments_lexer": "ipython3",
   "version": "3.8.5"
  }
 },
 "nbformat": 4,
 "nbformat_minor": 2
}
